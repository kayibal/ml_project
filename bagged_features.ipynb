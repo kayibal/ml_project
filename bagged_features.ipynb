{
 "cells": [
  {
   "cell_type": "code",
   "execution_count": 42,
   "metadata": {
    "collapsed": false
   },
   "outputs": [],
   "source": [
    "import re\n",
    "import pandas as pd\n",
    "import numpy as np\n",
    "from gensim.models import Word2Vec\n",
    "from nltk.corpus import stopwords\n",
    "from nltk.stem.snowball import GermanStemmer\n",
    "from nltk.tokenize import RegexpTokenizer\n",
    "from sklearn import linear_model\n",
    "from sklearn.naive_bayes import MultinomialNB\n",
    "from sklearn.feature_extraction.text import CountVectorizer, TfidfVectorizer\n",
    "from sklearn.metrics import roc_auc_score as auc\n",
    "from sklearn.metrics import accuracy_score\n",
    "from sklearn.pipeline import Pipeline\n",
    "from sklearn.model_selection import GridSearchCV\n",
    "from sklearn.cluster import KMeans"
   ]
  },
  {
   "cell_type": "code",
   "execution_count": 2,
   "metadata": {
    "collapsed": true
   },
   "outputs": [],
   "source": [
    "data = pd.read_hdf(\"/srv/smsguru/merged_questions.hdf5\")"
   ]
  },
  {
   "cell_type": "code",
   "execution_count": 3,
   "metadata": {
    "collapsed": true
   },
   "outputs": [],
   "source": [
    "stemmer = GermanStemmer()"
   ]
  },
  {
   "cell_type": "code",
   "execution_count": 4,
   "metadata": {
    "collapsed": true
   },
   "outputs": [],
   "source": [
    "tokenizer = RegexpTokenizer(r\"\\w+\")"
   ]
  },
  {
   "cell_type": "code",
   "execution_count": 5,
   "metadata": {
    "collapsed": true
   },
   "outputs": [],
   "source": [
    "stop = set(stopwords.words(\"german\"))"
   ]
  },
  {
   "cell_type": "code",
   "execution_count": 6,
   "metadata": {
    "collapsed": true
   },
   "outputs": [],
   "source": [
    "word_regex= re.compile(\"\\D+\")"
   ]
  },
  {
   "cell_type": "code",
   "execution_count": 7,
   "metadata": {
    "collapsed": false
   },
   "outputs": [],
   "source": [
    "def preprocess_doc(doc, stem=False):\n",
    "    res = [w for w in tokenizer.tokenize(doc.lower()) if w not in stop and re.fullmatch(word_regex, w)]\n",
    "    if stem:\n",
    "        res = [stemmer.stem(w) for w in res]\n",
    "    return res"
   ]
  },
  {
   "cell_type": "markdown",
   "metadata": {},
   "source": [
    "## Bag of words"
   ]
  },
  {
   "cell_type": "code",
   "execution_count": 23,
   "metadata": {
    "collapsed": false,
    "scrolled": true
   },
   "outputs": [
    {
     "name": "stdout",
     "output_type": "stream",
     "text": [
      "Fitting 3 folds for each of 20 candidates, totalling 60 fits\n"
     ]
    },
    {
     "name": "stderr",
     "output_type": "stream",
     "text": [
      "[Parallel(n_jobs=2)]: Done  46 tasks      | elapsed:   18.0s\n",
      "[Parallel(n_jobs=2)]: Done  60 out of  60 | elapsed:   23.6s finished\n"
     ]
    },
    {
     "name": "stdout",
     "output_type": "stream",
     "text": [
      "{'vect__ngram_range': (1, 2), 'vect__max_df': 0.5, 'vect__use_idf': True}\n",
      "0.597125067261\n"
     ]
    }
   ],
   "source": [
    "pipeline = Pipeline([(\"vect\", TfidfVectorizer(\n",
    "                                 strip_accents='unicode', \n",
    "                                 tokenizer=preprocess_doc, \n",
    "                                 stop_words=stop)), \n",
    "                     (\"evaluation\", linear_model.SGDClassifier())])\n",
    "\n",
    "def evaluate(pipeline, X, y):\n",
    "    pred = pipeline.predict(X)\n",
    "    return accuracy_score(y, pred)\n",
    "\n",
    "params=dict(\n",
    "    vect__use_idf=[True, False],\n",
    "    vect__max_df=[0.1, 0.25, 0.5, 0.85,  1.0],\n",
    "    vect__ngram_range=[(1,1),(1,2)]\n",
    ")\n",
    "\n",
    "gs = GridSearchCV(pipeline, params, scoring=evaluate, verbose=1, n_jobs=2)\n",
    "\n",
    "word_gs.fit(data.question.iloc[:int(len(data)*0.9)], y=data.parent_id.iloc[:int(len(data)*0.9)])\n",
    "\n",
    "print(\"Best model params {}\".format(word_gs.best_params_))\n",
    "\n",
    "print(\"Best cv score: {}\".format(word_gs.best_score_))\n",
    "\n",
    "pred = word_gs.predict(data.question.iloc[int(len(data)*0.9):])\n",
    "final_score = accuracy_score(data.parent_id.iloc[int(len(data)*0.9):], pred)\n",
    "print(\"Evaluation score: {}\".format(final_score) )"
   ]
  },
  {
   "cell_type": "code",
   "execution_count": null,
   "metadata": {
    "collapsed": true
   },
   "outputs": [],
   "source": []
  },
  {
   "cell_type": "markdown",
   "metadata": {},
   "source": [
    "## Bag of characters"
   ]
  },
  {
   "cell_type": "code",
   "execution_count": 31,
   "metadata": {
    "collapsed": true
   },
   "outputs": [],
   "source": [
    "vectorizer = TfidfVectorizer(analyzer=\"char_wb\")"
   ]
  },
  {
   "cell_type": "code",
   "execution_count": 32,
   "metadata": {
    "collapsed": false
   },
   "outputs": [
    {
     "data": {
      "text/plain": [
       "TfidfVectorizer(analyzer='char_wb', binary=False, decode_error='strict',\n",
       "        dtype=<class 'numpy.int64'>, encoding='utf-8', input='content',\n",
       "        lowercase=True, max_df=1.0, max_features=None, min_df=1,\n",
       "        ngram_range=(1, 1), norm='l2', preprocessor=None, smooth_idf=True,\n",
       "        stop_words=None, strip_accents=None, sublinear_tf=False,\n",
       "        token_pattern='(?u)\\\\b\\\\w\\\\w+\\\\b', tokenizer=None, use_idf=True,\n",
       "        vocabulary=None)"
      ]
     },
     "execution_count": 32,
     "metadata": {},
     "output_type": "execute_result"
    }
   ],
   "source": [
    "vectorizer.fit(data.question)"
   ]
  },
  {
   "cell_type": "code",
   "execution_count": 36,
   "metadata": {
    "collapsed": false
   },
   "outputs": [
    {
     "name": "stdout",
     "output_type": "stream",
     "text": [
      "Fitting 3 folds for each of 50 candidates, totalling 150 fits\n"
     ]
    },
    {
     "name": "stderr",
     "output_type": "stream",
     "text": [
      "[Parallel(n_jobs=2)]: Done  46 tasks      | elapsed:  1.6min\n",
      "[Parallel(n_jobs=2)]: Done 150 out of 150 | elapsed:  6.2min finished\n"
     ]
    },
    {
     "name": "stdout",
     "output_type": "stream",
     "text": [
      "{'vect__ngram_range': (1, 7), 'vect__max_df': 0.5, 'vect__use_idf': True}\n",
      "0.637712352986\n"
     ]
    }
   ],
   "source": [
    "pipeline = Pipeline([(\"vect\", TfidfVectorizer(analyzer=\"char_wb\")), \n",
    "                     (\"evaluation\", linear_model.SGDClassifier())])\n",
    "\n",
    "def evaluate(pipeline, X, y):\n",
    "    pred = pipeline.predict(X)\n",
    "    return accuracy_score(y, pred)\n",
    "\n",
    "params=dict(\n",
    "    vect__use_idf=[True, False],\n",
    "    vect__max_df=[0.1, 0.25, 0.5, 0.85,  1.0],\n",
    "    vect__ngram_range=[(1,i) for i in range(1,10, 2)]\n",
    ")\n",
    "\n",
    "char_gs = GridSearchCV(pipeline, params, scoring=evaluate, verbose=1, n_jobs=2)\n",
    "\n",
    "char_gs.fit(data.question.iloc[:int(len(data)*0.9)], y=data.parent_id.iloc[:int(len(data)*0.9)])\n",
    "\n",
    "print(\"Best model params {}\".format(char_gs.best_params_))\n",
    "\n",
    "print(\"Best cv score: {}\".format(char_gs.best_score_))\n",
    "\n",
    "pred = char_gs.predict(data.question.iloc[int(len(data)*0.9):])\n",
    "final_score = accuracy_score(data.parent_id.iloc[int(len(data)*0.9):], pred)\n",
    "print(\"Evaluation score: {}\".format(final_score) )"
   ]
  },
  {
   "cell_type": "markdown",
   "metadata": {},
   "source": [
    "## w2v topic cluster"
   ]
  },
  {
   "cell_type": "code",
   "execution_count": 75,
   "metadata": {
    "collapsed": true
   },
   "outputs": [],
   "source": [
    "w2v = Word2Vec.load_word2vec_format(\"german.model\", binary=1)"
   ]
  },
  {
   "cell_type": "code",
   "execution_count": 128,
   "metadata": {
    "collapsed": false
   },
   "outputs": [],
   "source": [
    "class TopicCluster(object):\n",
    "    \n",
    "    def __init__(self, n_topics=100, stop_words=None, w2v_model=None):\n",
    "        self.tokenizer= RegexpTokenizer(r\"\\w+\")\n",
    "        self.model = w2v_model\n",
    "        self.n_topics= n_topics\n",
    "        self.clustering = None\n",
    "        self.points = None\n",
    "        self.stop_words=stop_words\n",
    "    \n",
    "    def fit(self, X, *args, **kwargs):\n",
    "        self.points = self._get_embedding(X)\n",
    "        self.clustering = KMeans(n_clusters=self.n_topics).fit(self.points)\n",
    "    \n",
    "    def transform(self, X, *args, **kwargs):\n",
    "        transformed = []\n",
    "        print(X)\n",
    "        for doc in X:\n",
    "            embedded_doc = []\n",
    "            for w in self._clean_doc(doc):\n",
    "                try:\n",
    "                    embedded_doc.append(self.model[w])\n",
    "                except KeyError:\n",
    "                    pass\n",
    "            embedded_doc = np.vstack(embedded_doc)\n",
    "            transformed.append(\" \".join(map(lambda x: \"TOPIC_{}\".format(x), self.clustering.predict(embedded_doc))))\n",
    "        return transformed\n",
    "                               \n",
    "    def _get_embedding(self, doc):\n",
    "        docs = list(map(self._clean_doc, doc))\n",
    "        res = []\n",
    "        idx = 0\n",
    "        for doc in docs:\n",
    "            for w in doc:\n",
    "                try:\n",
    "                    res.append(self.model[w])\n",
    "                    idx += 1\n",
    "                except KeyError:\n",
    "                    pass\n",
    "        return res\n",
    "    \n",
    "    def _clean_doc(self, sen, use_stopwords=False):\n",
    "        res = self.tokenizer.tokenize(sen)\n",
    "        if use_stopwords and self.stop_words:\n",
    "            res = [w for w in tokens if w not in self.stop]\n",
    "        return res"
   ]
  },
  {
   "cell_type": "code",
   "execution_count": null,
   "metadata": {
    "collapsed": false
   },
   "outputs": [
    {
     "name": "stdout",
     "output_type": "stream",
     "text": [
      "Fitting 3 folds for each of 140 candidates, totalling 420 fits\n"
     ]
    }
   ],
   "source": [
    "pipeline = Pipeline([\n",
    "        (\"topic\", TopicCluster(w2v_model=w2v, stop_words=stop)),\n",
    "        (\"vect\", TfidfVectorizer()), \n",
    "        (\"evaluation\", linear_model.SGDClassifier())])\n",
    "\n",
    "def evaluate(pipeline, X, y):\n",
    "    pred = pipeline.predict(X)\n",
    "    return accuracy_score(y, pred)\n",
    "\n",
    "params=dict(\n",
    "    topic__n_topics=[25, 50, 100, 250, 500, 1000, 2000],\n",
    "    vect__use_idf=[True, False],\n",
    "    vect__max_df=[0.1, 0.25, 0.5, 0.85,  1.0],\n",
    "    vect__ngram_range=[(1,1),(1,2)]\n",
    ")\n",
    "\n",
    "topic_gs = GridSearchCV(pipeline, params, scoring=evaluate, verbose=1, n_jobs=2)\n",
    "\n",
    "topic_gs.fit(data.question.iloc[:int(len(data)*0.9)], y=data.parent_id.iloc[:int(len(data)*0.9)])\n",
    "\n",
    "print(\"Best model params {}\".format(topic_gs.best_params_))\n",
    "\n",
    "print(\"Best cv score: {}\".format(topic_gs.best_score_))\n",
    "\n",
    "pred = topic_gs.predict(data.question.iloc[int(len(data)*0.9):])\n",
    "final_score = accuracy_score(data.parent_id.iloc[int(len(data)*0.9):], pred)\n",
    "print(\"Evaluation score: {}\".format(final_score) )"
   ]
  },
  {
   "cell_type": "code",
   "execution_count": null,
   "metadata": {
    "collapsed": true
   },
   "outputs": [],
   "source": []
  }
 ],
 "metadata": {
  "kernelspec": {
   "display_name": "Python 3",
   "language": "python",
   "name": "python3"
  },
  "language_info": {
   "codemirror_mode": {
    "name": "ipython",
    "version": 3
   },
   "file_extension": ".py",
   "mimetype": "text/x-python",
   "name": "python",
   "nbconvert_exporter": "python",
   "pygments_lexer": "ipython3",
   "version": "3.5.2"
  }
 },
 "nbformat": 4,
 "nbformat_minor": 1
}
