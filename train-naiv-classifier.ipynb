{
 "cells": [
  {
   "cell_type": "code",
   "execution_count": 1,
   "metadata": {
    "collapsed": false
   },
   "outputs": [
    {
     "name": "stderr",
     "output_type": "stream",
     "text": [
      "/Users/kayibal/virtualenvs/ml_project/lib/python3.5/site-packages/sklearn/cross_validation.py:44: DeprecationWarning: This module was deprecated in version 0.18 in favor of the model_selection module into which all the refactored classes and functions are moved. Also note that the interface of the new CV iterators are different from that of this module. This module will be removed in 0.20.\n",
      "  \"This module will be removed in 0.20.\", DeprecationWarning)\n"
     ]
    }
   ],
   "source": [
    "import pandas as pd\n",
    "import numpy as np\n",
    "import xgboost \n",
    "from sklearn.metrics import roc_auc_score\n",
    "from sklearn.tree import DecisionTreeClassifier\n",
    "from sklearn.linear_model import SGDClassifier"
   ]
  },
  {
   "cell_type": "code",
   "execution_count": 2,
   "metadata": {
    "collapsed": true
   },
   "outputs": [],
   "source": [
    "df = pd.read_hdf(\"/srv/smsguru/dataset/embedded_full.hdf5\")"
   ]
  },
  {
   "cell_type": "code",
   "execution_count": 3,
   "metadata": {
    "collapsed": false
   },
   "outputs": [],
   "source": [
    "df = df.groupby(\"question_id\").mean().reset_index()\n",
    "df = df.iloc[np.random.permutation(np.arange(len(df)))]"
   ]
  },
  {
   "cell_type": "code",
   "execution_count": 4,
   "metadata": {
    "collapsed": false
   },
   "outputs": [],
   "source": [
    "train = df.iloc[:int(len(df)*0.6)]\n",
    "tune = df.iloc[int(len(df)*0.6):int(len(df)*0.6)+int(len(df)*0.1)]\n",
    "test = df.iloc[int(len(df)*0.6)+int(len(df)*0.1):]"
   ]
  },
  {
   "cell_type": "code",
   "execution_count": 5,
   "metadata": {
    "collapsed": false
   },
   "outputs": [],
   "source": [
    "Y_ALL = train[[\"question_id\", \"parent_id\"]].drop_duplicates().set_index(\"question_id\")"
   ]
  },
  {
   "cell_type": "code",
   "execution_count": 6,
   "metadata": {
    "collapsed": true
   },
   "outputs": [],
   "source": [
    "feature_cols = [\"question_id\"] + [\"dim_{}\".format(i) for i in range(300)]\n",
    "X = train[feature_cols].set_index(\"question_id\")"
   ]
  },
  {
   "cell_type": "code",
   "execution_count": 8,
   "metadata": {
    "collapsed": false
   },
   "outputs": [
    {
     "data": {
      "text/plain": [
       "(14,)"
      ]
     },
     "execution_count": 8,
     "metadata": {},
     "output_type": "execute_result"
    }
   ],
   "source": [
    "Y_ALL.parent_id.value_counts()"
   ]
  },
  {
   "cell_type": "code",
   "execution_count": null,
   "metadata": {
    "collapsed": false
   },
   "outputs": [],
   "source": [
    "targets = Y_ALL.parent_id.value_counts().index.tolist()"
   ]
  },
  {
   "cell_type": "code",
   "execution_count": 16,
   "metadata": {
    "collapsed": false
   },
   "outputs": [],
   "source": [
    "def evaluate_tree():\n",
    "    for i in targets:\n",
    "        Y = (Y_ALL.parent_id == 9).astype(int)\n",
    "        mdl = DecisionTreeClassifier()\n",
    "        mdl.fit(np.array(X, dtype=np.int32), np.array(Y, dtype=np.int32))\n",
    "        Y_TEST = test[[\"question_id\", \"parent_id\"]].drop_duplicates().set_index(\"question_id\")\n",
    "        Y_true = (Y_TEST.parent_id == 16).astype(int)\n",
    "        X_test = test[feature_cols].set_index(\"question_id\")\n",
    "        pred = mdl.predict(np.array(X_test, dtype=np.int32))\n",
    "        print(i, roc_auc_score(Y_true, pred))"
   ]
  },
  {
   "cell_type": "code",
   "execution_count": 17,
   "metadata": {
    "collapsed": true
   },
   "outputs": [],
   "source": [
    "def evaluate_sgd():\n",
    "    for i in targets:\n",
    "        Y = (Y_ALL.parent_id == 9).astype(int)\n",
    "        mdl = SGDClassifier()\n",
    "        mdl.fit(np.array(X, dtype=np.int32), np.array(Y, dtype=np.int32))\n",
    "        Y_TEST = test[[\"question_id\", \"parent_id\"]].drop_duplicates().set_index(\"question_id\")\n",
    "        Y_true = (Y_TEST.parent_id == 16).astype(int)\n",
    "        X_test = test[feature_cols].set_index(\"question_id\")\n",
    "        pred = mdl.predict(np.array(X_test, dtype=np.int32))\n",
    "        print(i, roc_auc_score(Y_true, pred))"
   ]
  },
  {
   "cell_type": "code",
   "execution_count": 18,
   "metadata": {
    "collapsed": false
   },
   "outputs": [
    {
     "name": "stdout",
     "output_type": "stream",
     "text": [
      "16.0 0.5\n",
      "11.0 0.5\n",
      "8.0 0.5\n",
      "15.0 0.5\n",
      "13.0 0.5\n",
      "14.0 0.5\n",
      "7.0 0.5\n",
      "17.0 0.5\n",
      "74.0 0.5\n",
      "12.0 0.5\n",
      "10.0 0.5\n",
      "18.0 0.5\n",
      "19.0 0.5\n",
      "9.0 0.5\n"
     ]
    }
   ],
   "source": [
    "evaluate_sgd()"
   ]
  },
  {
   "cell_type": "code",
   "execution_count": 19,
   "metadata": {
    "collapsed": false
   },
   "outputs": [
    {
     "data": {
      "text/plain": [
       "0.5"
      ]
     },
     "execution_count": 19,
     "metadata": {},
     "output_type": "execute_result"
    }
   ],
   "source": [
    "Y = (Y_ALL.parent_id == 9).astype(int)\n",
    "mdl = DecisionTreeClassifier()\n",
    "mdl.fit(np.array(X, dtype=np.int32), np.array(Y, dtype=np.int32))\n",
    "Y_TEST = test[[\"question_id\", \"parent_id\"]].drop_duplicates().set_index(\"question_id\")\n",
    "Y_true = (Y_TEST.parent_id == 16).astype(int)\n",
    "X_test = test[feature_cols].set_index(\"question_id\")\n",
    "pred = mdl.predict(np.array(X_test, dtype=np.int32))\n",
    "roc_auc_score(Y_true, pred)"
   ]
  },
  {
   "cell_type": "code",
   "execution_count": 21,
   "metadata": {
    "collapsed": false
   },
   "outputs": [
    {
     "name": "stdout",
     "output_type": "stream",
     "text": [
      "16.0 0.783187013181\n",
      "11.0 0.977756298963\n",
      "8.0 0.900721144783\n",
      "15.0 0.863864133357\n",
      "13.0 0.836002032518\n",
      "14.0 0.849958905361\n",
      "7.0 0.877309147228\n",
      "17.0 0.888266629359\n",
      "74.0 0.825702806099\n",
      "12.0 0.874259934484\n",
      "10.0 0.796752805893\n",
      "18.0 0.880897932735\n",
      "19.0 0.890293497291\n",
      "9.0 0.854018121734\n"
     ]
    }
   ],
   "source": [
    "mdl = {}\n",
    "for i in targets:\n",
    "    Y = (Y_ALL.parent_id == i).astype(int)\n",
    "\n",
    "    d = xgboost.DMatrix(X, label=Y)\n",
    "\n",
    "    mdl[i] = xgboost.train({'max_depth':10, 'eta':0.1, 'silent':1, 'objective':'binary:logistic' }, d, 100)\n",
    "\n",
    "    Y_TEST = test[[\"question_id\", \"parent_id\"]].drop_duplicates().set_index(\"question_id\")\n",
    "\n",
    "    Y_true = (Y_TEST.parent_id == i).astype(int)\n",
    "\n",
    "    X_test = test[feature_cols].set_index(\"question_id\")\n",
    "\n",
    "    pred = mdl[i].predict(xgboost.DMatrix(X_test))\n",
    "\n",
    "    print(i,roc_auc_score(Y_true, pred))"
   ]
  },
  {
   "cell_type": "code",
   "execution_count": 20,
   "metadata": {
    "collapsed": false
   },
   "outputs": [],
   "source": [
    "mapping = list(Y_ALL.parent_id.unique())"
   ]
  },
  {
   "cell_type": "code",
   "execution_count": 21,
   "metadata": {
    "collapsed": false
   },
   "outputs": [],
   "source": [
    "def map_labels(x):\n",
    "    return mapping.index(x) + 1"
   ]
  },
  {
   "cell_type": "code",
   "execution_count": 24,
   "metadata": {
    "collapsed": false
   },
   "outputs": [
    {
     "ename": "NameError",
     "evalue": "name 'i' is not defined",
     "output_type": "error",
     "traceback": [
      "\u001b[0;31m---------------------------------------------------------------------------\u001b[0m",
      "\u001b[0;31mNameError\u001b[0m                                 Traceback (most recent call last)",
      "\u001b[0;32m<ipython-input-24-c5acbd0bfcfd>\u001b[0m in \u001b[0;36m<module>\u001b[0;34m()\u001b[0m\n\u001b[1;32m      7\u001b[0m \u001b[0mY_TEST\u001b[0m \u001b[0;34m=\u001b[0m \u001b[0mtest\u001b[0m\u001b[0;34m[\u001b[0m\u001b[0;34m[\u001b[0m\u001b[0;34m\"question_id\"\u001b[0m\u001b[0;34m,\u001b[0m \u001b[0;34m\"parent_id\"\u001b[0m\u001b[0;34m]\u001b[0m\u001b[0;34m]\u001b[0m\u001b[0;34m.\u001b[0m\u001b[0mdrop_duplicates\u001b[0m\u001b[0;34m(\u001b[0m\u001b[0;34m)\u001b[0m\u001b[0;34m.\u001b[0m\u001b[0mset_index\u001b[0m\u001b[0;34m(\u001b[0m\u001b[0;34m\"question_id\"\u001b[0m\u001b[0;34m)\u001b[0m\u001b[0;34m\u001b[0m\u001b[0m\n\u001b[1;32m      8\u001b[0m \u001b[0;34m\u001b[0m\u001b[0m\n\u001b[0;32m----> 9\u001b[0;31m \u001b[0mY_true\u001b[0m \u001b[0;34m=\u001b[0m \u001b[0;34m(\u001b[0m\u001b[0mY_TEST\u001b[0m\u001b[0;34m.\u001b[0m\u001b[0mparent_id\u001b[0m \u001b[0;34m==\u001b[0m \u001b[0mi\u001b[0m\u001b[0;34m)\u001b[0m\u001b[0;34m.\u001b[0m\u001b[0mastype\u001b[0m\u001b[0;34m(\u001b[0m\u001b[0mint\u001b[0m\u001b[0;34m)\u001b[0m\u001b[0;34m\u001b[0m\u001b[0m\n\u001b[0m\u001b[1;32m     10\u001b[0m \u001b[0;34m\u001b[0m\u001b[0m\n\u001b[1;32m     11\u001b[0m \u001b[0mX_test\u001b[0m \u001b[0;34m=\u001b[0m \u001b[0mtest\u001b[0m\u001b[0;34m[\u001b[0m\u001b[0mfeature_cols\u001b[0m\u001b[0;34m]\u001b[0m\u001b[0;34m.\u001b[0m\u001b[0mset_index\u001b[0m\u001b[0;34m(\u001b[0m\u001b[0;34m\"question_id\"\u001b[0m\u001b[0;34m)\u001b[0m\u001b[0;34m\u001b[0m\u001b[0m\n",
      "\u001b[0;31mNameError\u001b[0m: name 'i' is not defined"
     ]
    }
   ],
   "source": [
    "Y = Y_ALL.parent_id.apply(map_labels)\n",
    "\n",
    "d = xgboost.DMatrix(X, label=Y)\n",
    "\n",
    "mdl = xgboost.train({'max_depth':10, 'eta':0.1, 'silent':1, 'objective':'multi:softmax', 'num_class':15 }, d, 100)\n",
    "\n",
    "Y_TEST = test[[\"question_id\", \"parent_id\"]].drop_duplicates().set_index(\"question_id\")"
   ]
  },
  {
   "cell_type": "code",
   "execution_count": 26,
   "metadata": {
    "collapsed": false
   },
   "outputs": [],
   "source": [
    "Y_true = Y_TEST.parent_id\n",
    "\n",
    "X_test = test[feature_cols].set_index(\"question_id\")\n",
    "\n",
    "pred = mdl.predict(xgboost.DMatrix(X_test))"
   ]
  },
  {
   "cell_type": "code",
   "execution_count": 27,
   "metadata": {
    "collapsed": false
   },
   "outputs": [
    {
     "ename": "NameError",
     "evalue": "name 'accuracy_score' is not defined",
     "output_type": "error",
     "traceback": [
      "\u001b[0;31m---------------------------------------------------------------------------\u001b[0m",
      "\u001b[0;31mNameError\u001b[0m                                 Traceback (most recent call last)",
      "\u001b[0;32m<ipython-input-27-4ed918baa0a9>\u001b[0m in \u001b[0;36m<module>\u001b[0;34m()\u001b[0m\n\u001b[0;32m----> 1\u001b[0;31m \u001b[0maccuracy_score\u001b[0m\u001b[0;34m(\u001b[0m\u001b[0mpred\u001b[0m\u001b[0;34m,\u001b[0m \u001b[0mY_TEST\u001b[0m\u001b[0;34m)\u001b[0m\u001b[0;34m\u001b[0m\u001b[0m\n\u001b[0m",
      "\u001b[0;31mNameError\u001b[0m: name 'accuracy_score' is not defined"
     ]
    }
   ],
   "source": [
    "accuracy_score(pred, Y_TEST)"
   ]
  },
  {
   "cell_type": "code",
   "execution_count": 23,
   "metadata": {
    "collapsed": false
   },
   "outputs": [],
   "source": [
    "def multicls_pred(X):\n",
    "    pred = {}\n",
    "    for target, model in mdl.items():\n",
    "        pred[target] = model.predict(xgboost.DMatrix(X))\n",
    "    return pred"
   ]
  },
  {
   "cell_type": "code",
   "execution_count": 24,
   "metadata": {
    "collapsed": true
   },
   "outputs": [],
   "source": [
    "X_test = test[feature_cols].set_index(\"question_id\")\n",
    "pred = multicls_pred(X_test)\n",
    "pred = pd.DataFrame(pred).idxmax(axis=1)"
   ]
  },
  {
   "cell_type": "code",
   "execution_count": 29,
   "metadata": {
    "collapsed": false
   },
   "outputs": [
    {
     "data": {
      "text/plain": [
       "0.086966551326412914"
      ]
     },
     "execution_count": 29,
     "metadata": {},
     "output_type": "execute_result"
    }
   ],
   "source": [
    "from sklearn.metrics import accuracy_score\n",
    "accuracy_score(pred, Y_TEST)"
   ]
  },
  {
   "cell_type": "code",
   "execution_count": null,
   "metadata": {
    "collapsed": true
   },
   "outputs": [],
   "source": []
  }
 ],
 "metadata": {
  "kernelspec": {
   "display_name": "Python 3",
   "language": "python",
   "name": "python3"
  },
  "language_info": {
   "codemirror_mode": {
    "name": "ipython",
    "version": 3
   },
   "file_extension": ".py",
   "mimetype": "text/x-python",
   "name": "python",
   "nbconvert_exporter": "python",
   "pygments_lexer": "ipython3",
   "version": "3.5.2"
  }
 },
 "nbformat": 4,
 "nbformat_minor": 1
}
