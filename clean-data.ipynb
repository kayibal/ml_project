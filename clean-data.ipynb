{
 "cells": [
  {
   "cell_type": "code",
   "execution_count": 1,
   "metadata": {
    "collapsed": false
   },
   "outputs": [],
   "source": [
    "import tables\n",
    "import pandas as pd\n",
    "import io"
   ]
  },
  {
   "cell_type": "code",
   "execution_count": 2,
   "metadata": {
    "collapsed": false
   },
   "outputs": [
    {
     "name": "stdout",
     "output_type": "stream",
     "text": [
      "category.csv\n",
      "question_category_train.csv\n",
      "question_train.csv\n"
     ]
    }
   ],
   "source": [
    "%%bash\n",
    "ls data"
   ]
  },
  {
   "cell_type": "markdown",
   "metadata": {},
   "source": [
    "## Clean category.csv"
   ]
  },
  {
   "cell_type": "code",
   "execution_count": 3,
   "metadata": {
    "collapsed": true
   },
   "outputs": [],
   "source": [
    "with open(\"data/category.csv\", \"r\") as f:\n",
    "    data = f.read()"
   ]
  },
  {
   "cell_type": "code",
   "execution_count": 4,
   "metadata": {
    "collapsed": false
   },
   "outputs": [],
   "source": [
    "cleaned = data.replace(\"\\n\\\\\\n\", \"~~~NEWLINE~~~\")\n",
    "cleaned = cleaned.replace('\\\\\"', \"~~~QUOTE~~~\")"
   ]
  },
  {
   "cell_type": "code",
   "execution_count": 5,
   "metadata": {
    "collapsed": false
   },
   "outputs": [],
   "source": [
    "df = pd.read_csv(io.StringIO(cleaned))"
   ]
  },
  {
   "cell_type": "code",
   "execution_count": 6,
   "metadata": {
    "collapsed": false
   },
   "outputs": [],
   "source": [
    "df[\"description\"] = df.description.fillna(\"\").apply(lambda x: x.replace(\"~~~QUOTE~~~\", '\"').replace(\"~~~NEWLINE~~~\", \"\\n\"))"
   ]
  },
  {
   "cell_type": "code",
   "execution_count": 7,
   "metadata": {
    "collapsed": false
   },
   "outputs": [
    {
     "name": "stderr",
     "output_type": "stream",
     "text": [
      "/Users/kayibal/virtualenvs/ml_project/lib/python3.5/site-packages/pandas/core/generic.py:1138: PerformanceWarning: \n",
      "your performance may suffer as PyTables will pickle object types that it cannot\n",
      "map directly to c-types [inferred_type->mixed,key->block2_values] [items->['category_name', 'headline', 'description', 'meta_description', 'meta_tag', 'url', 'created_at', 'updated_at']]\n",
      "\n",
      "  return pytables.to_hdf(path_or_buf, key, self, **kwargs)\n"
     ]
    }
   ],
   "source": [
    "df.to_hdf(\"data/category.hdf5\", \"/df\")"
   ]
  },
  {
   "cell_type": "code",
   "execution_count": 94,
   "metadata": {
    "collapsed": false
   },
   "outputs": [],
   "source": [
    "df2 = pd.read_csv(\"data/question_category_train.csv\", parse_dates=[\"created_at\"])"
   ]
  },
  {
   "cell_type": "code",
   "execution_count": 15,
   "metadata": {
    "collapsed": false
   },
   "outputs": [],
   "source": [
    "df.to_hdf(\"data/question_category_train.hdf5\", \"/df\")"
   ]
  },
  {
   "cell_type": "code",
   "execution_count": 96,
   "metadata": {
    "collapsed": true
   },
   "outputs": [],
   "source": [
    "with open(\"data/question_train.csv\", \"r\") as f:\n",
    "    data = f.read()"
   ]
  },
  {
   "cell_type": "code",
   "execution_count": 97,
   "metadata": {
    "collapsed": false
   },
   "outputs": [],
   "source": [
    "def remove_quoted_newline(data):\n",
    "    in_quotes = 0\n",
    "    string = []\n",
    "    for c in data:\n",
    "        if c == '\"' and in_quotes == 0:\n",
    "            in_quotes +=1\n",
    "            string.append(c)\n",
    "        elif c == '\"' and in_quotes == 1:\n",
    "            in_quotes -= 1\n",
    "            string.append(c)\n",
    "        elif c == '\\n' and in_quotes == 1:\n",
    "            string.append(\"~~~NEWLINE~~~\")\n",
    "        else:\n",
    "            string.append(c)\n",
    "    if in_quotes > 0:\n",
    "        print(\"unequal quote count\")\n",
    "    return \"\".join(string)"
   ]
  },
  {
   "cell_type": "code",
   "execution_count": 98,
   "metadata": {
    "collapsed": false
   },
   "outputs": [],
   "source": [
    "no_quotes = data.replace('\\\\\"', \"~~~QUOTE~~~\")\n",
    "cleaned = remove_quoted_newline(no_quotes)"
   ]
  },
  {
   "cell_type": "code",
   "execution_count": 99,
   "metadata": {
    "collapsed": false
   },
   "outputs": [
    {
     "name": "stdout",
     "output_type": "stream",
     "text": [
      "\"9984\",\"0\",\"0\",\"70\",\"\",\"\",\"Casting, Wettbewerb, Talent, Gesang\",\"Prominente\",\"stars-promis/prominente/\",\"0\",\"0\",\"0\",\"0\",\"0\",\"1\",\"0\",\"0\",\"0000-00-00 00:00:00\",\"8\",\"2008-10-19 15:22:00\",\"2010-04-12 15:21:43\"\n"
     ]
    }
   ],
   "source": [
    "for line in cleaned.splitlines():\n",
    "    if '\"9984\"' in line:\n",
    "        print(line)"
   ]
  },
  {
   "cell_type": "code",
   "execution_count": 100,
   "metadata": {
    "collapsed": false
   },
   "outputs": [],
   "source": [
    "df = pd.read_csv(io.StringIO(cleaned), quotechar='\"', sep=',')"
   ]
  },
  {
   "cell_type": "code",
   "execution_count": 101,
   "metadata": {
    "collapsed": false
   },
   "outputs": [],
   "source": [
    "df[\"question\"] = df.question.fillna(\"\").apply(lambda x: x.replace(\"~~~NEWLINE~~~\", \"\\n\").replace(\"~~~QUOTE~~~\", '\"'))"
   ]
  },
  {
   "cell_type": "code",
   "execution_count": 102,
   "metadata": {
    "collapsed": false
   },
   "outputs": [
    {
     "name": "stderr",
     "output_type": "stream",
     "text": [
      "/Users/kayibal/virtualenvs/ml_project/lib/python3.5/site-packages/pandas/core/generic.py:1138: PerformanceWarning: \n",
      "your performance may suffer as PyTables will pickle object types that it cannot\n",
      "map directly to c-types [inferred_type->mixed,key->block1_values] [items->['category_main_id', 'question', 'description', 'tags', 'categories', 'url', 'editor_locked', 'created_at', 'updated_at']]\n",
      "\n",
      "  return pytables.to_hdf(path_or_buf, key, self, **kwargs)\n"
     ]
    }
   ],
   "source": [
    "df.to_hdf(\"data/question_train.hdf5\", \"/df\")"
   ]
  },
  {
   "cell_type": "code",
   "execution_count": null,
   "metadata": {
    "collapsed": true
   },
   "outputs": [],
   "source": []
  }
 ],
 "metadata": {
  "kernelspec": {
   "display_name": "Python 3",
   "language": "python",
   "name": "python3"
  },
  "language_info": {
   "codemirror_mode": {
    "name": "ipython",
    "version": 3
   },
   "file_extension": ".py",
   "mimetype": "text/x-python",
   "name": "python",
   "nbconvert_exporter": "python",
   "pygments_lexer": "ipython3",
   "version": "3.5.2"
  }
 },
 "nbformat": 4,
 "nbformat_minor": 1
}
