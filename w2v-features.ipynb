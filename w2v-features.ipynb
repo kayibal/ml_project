{
 "cells": [
  {
   "cell_type": "code",
   "execution_count": 2,
   "metadata": {
    "collapsed": false
   },
   "outputs": [
    {
     "name": "stderr",
     "output_type": "stream",
     "text": [
      "/Users/kayibal/virtualenvs/ml_project/lib/python3.5/site-packages/gensim/utils.py:1015: UserWarning: Pattern library is not installed, lemmatization won't be available.\n",
      "  warnings.warn(\"Pattern library is not installed, lemmatization won't be available.\")\n"
     ]
    }
   ],
   "source": [
    "from gensim.models import Word2Vec\n",
    "import pandas as pd\n",
    "from nltk.corpus import stopwords\n",
    "from nltk.tokenize import RegexpTokenizer\n",
    "import numpy as np"
   ]
  },
  {
   "cell_type": "code",
   "execution_count": 30,
   "metadata": {
    "collapsed": true
   },
   "outputs": [],
   "source": [
    "w2v = Word2Vec.load_word2vec_format(\"german.model\", binary=1)"
   ]
  },
  {
   "cell_type": "code",
   "execution_count": 5,
   "metadata": {
    "collapsed": false
   },
   "outputs": [],
   "source": [
    "stop = set(stopwords.words(\"german\"))"
   ]
  },
  {
   "cell_type": "code",
   "execution_count": 12,
   "metadata": {
    "collapsed": true
   },
   "outputs": [],
   "source": [
    "tokenizer= RegexpTokenizer(r\"\\w+\")"
   ]
  },
  {
   "cell_type": "code",
   "execution_count": 3,
   "metadata": {
    "collapsed": false
   },
   "outputs": [
    {
     "name": "stdout",
     "output_type": "stream",
     "text": [
      "category.csv\n",
      "category.hdf5\n",
      "question_category_train.csv\n",
      "question_category_train.hdf5\n",
      "question_train.csv\n",
      "question_train.hdf5\n"
     ]
    }
   ],
   "source": [
    "%%bash\n",
    "ls data/"
   ]
  },
  {
   "cell_type": "code",
   "execution_count": 3,
   "metadata": {
    "collapsed": true
   },
   "outputs": [],
   "source": [
    "cat = pd.read_hdf(\"data/category.hdf5\")"
   ]
  },
  {
   "cell_type": "code",
   "execution_count": 4,
   "metadata": {
    "collapsed": false
   },
   "outputs": [
    {
     "data": {
      "text/plain": [
       "dtype('int64')"
      ]
     },
     "execution_count": 4,
     "metadata": {},
     "output_type": "execute_result"
    }
   ],
   "source": [
    "cat.parent_id.dtype"
   ]
  },
  {
   "cell_type": "code",
   "execution_count": 35,
   "metadata": {
    "collapsed": false
   },
   "outputs": [],
   "source": [
    "main_cat = cat[cat.parent_id == 0]"
   ]
  },
  {
   "cell_type": "code",
   "execution_count": 36,
   "metadata": {
    "collapsed": false
   },
   "outputs": [
    {
     "data": {
      "text/html": [
       "<div>\n",
       "<table border=\"1\" class=\"dataframe\">\n",
       "  <thead>\n",
       "    <tr style=\"text-align: right;\">\n",
       "      <th></th>\n",
       "      <th>category_id</th>\n",
       "      <th>parent_id</th>\n",
       "      <th>category_name</th>\n",
       "      <th>headline</th>\n",
       "      <th>title</th>\n",
       "      <th>description</th>\n",
       "      <th>meta_description</th>\n",
       "      <th>meta_tag</th>\n",
       "      <th>url</th>\n",
       "      <th>level</th>\n",
       "      <th>sort_id</th>\n",
       "      <th>use_count</th>\n",
       "      <th>active</th>\n",
       "      <th>created_at</th>\n",
       "      <th>updated_at</th>\n",
       "    </tr>\n",
       "  </thead>\n",
       "  <tbody>\n",
       "    <tr>\n",
       "      <th>0</th>\n",
       "      <td>13</td>\n",
       "      <td>0</td>\n",
       "      <td>Schule</td>\n",
       "      <td>Schule | Allgemeinwissen</td>\n",
       "      <td>NaN</td>\n",
       "      <td>&lt;p&gt;Auch wenn man sie &amp;bdquo;Penne&amp;ldquo; nennt...</td>\n",
       "      <td>NaN</td>\n",
       "      <td>NaN</td>\n",
       "      <td>schule</td>\n",
       "      <td>0</td>\n",
       "      <td>56</td>\n",
       "      <td>0</td>\n",
       "      <td>1</td>\n",
       "      <td>2010-03-02 08:08:08</td>\n",
       "      <td>2010-03-31 12:19:03</td>\n",
       "    </tr>\n",
       "    <tr>\n",
       "      <th>1</th>\n",
       "      <td>12</td>\n",
       "      <td>0</td>\n",
       "      <td>Literatur &amp; Sprache</td>\n",
       "      <td>Literatur &amp; Sprache | Allgemeinwissen</td>\n",
       "      <td>NaN</td>\n",
       "      <td>&lt;p&gt;Themen wie B&amp;uuml;cher, internationale Lite...</td>\n",
       "      <td>NaN</td>\n",
       "      <td>NaN</td>\n",
       "      <td>literatur-sprache</td>\n",
       "      <td>0</td>\n",
       "      <td>41</td>\n",
       "      <td>0</td>\n",
       "      <td>1</td>\n",
       "      <td>2010-03-02 08:05:41</td>\n",
       "      <td>2010-04-01 09:28:28</td>\n",
       "    </tr>\n",
       "    <tr>\n",
       "      <th>2</th>\n",
       "      <td>11</td>\n",
       "      <td>0</td>\n",
       "      <td>Namensforschung</td>\n",
       "      <td>Namensforschung | Allgemeinwissen</td>\n",
       "      <td>NaN</td>\n",
       "      <td>&lt;p&gt;In der Kategorie &amp;bdquo;Namensforschung&amp;ldq...</td>\n",
       "      <td>NaN</td>\n",
       "      <td>NaN</td>\n",
       "      <td>namensforschung</td>\n",
       "      <td>0</td>\n",
       "      <td>53</td>\n",
       "      <td>0</td>\n",
       "      <td>1</td>\n",
       "      <td>2010-03-02 08:04:58</td>\n",
       "      <td>2010-03-31 13:32:21</td>\n",
       "    </tr>\n",
       "    <tr>\n",
       "      <th>3</th>\n",
       "      <td>7</td>\n",
       "      <td>0</td>\n",
       "      <td>Film &amp; Musik</td>\n",
       "      <td>Film &amp; Musik | Allgemeinwissen</td>\n",
       "      <td>NaN</td>\n",
       "      <td>&lt;p&gt;In der Kategorie Film &amp;amp; Musik findest d...</td>\n",
       "      <td>NaN</td>\n",
       "      <td>NaN</td>\n",
       "      <td>film-musik</td>\n",
       "      <td>0</td>\n",
       "      <td>22</td>\n",
       "      <td>0</td>\n",
       "      <td>1</td>\n",
       "      <td>2010-03-02 07:58:55</td>\n",
       "      <td>2010-04-06 15:40:22</td>\n",
       "    </tr>\n",
       "    <tr>\n",
       "      <th>4</th>\n",
       "      <td>8</td>\n",
       "      <td>0</td>\n",
       "      <td>Stars &amp; Promis</td>\n",
       "      <td>Stars &amp; Promis | Allgemeinwissen</td>\n",
       "      <td>NaN</td>\n",
       "      <td>&lt;p&gt;Beim t&amp;auml;glichen Aufschlagen der Zeitung...</td>\n",
       "      <td>NaN</td>\n",
       "      <td>NaN</td>\n",
       "      <td>stars-promis</td>\n",
       "      <td>0</td>\n",
       "      <td>64</td>\n",
       "      <td>0</td>\n",
       "      <td>1</td>\n",
       "      <td>2010-03-02 08:00:07</td>\n",
       "      <td>2010-03-31 11:21:27</td>\n",
       "    </tr>\n",
       "    <tr>\n",
       "      <th>5</th>\n",
       "      <td>9</td>\n",
       "      <td>0</td>\n",
       "      <td>Computer &amp; PC</td>\n",
       "      <td>Computer &amp; PC | Allgemeinwissen</td>\n",
       "      <td>NaN</td>\n",
       "      <td>&lt;p&gt;Die Kategorie &amp;bdquo;Computer &amp;amp; PC&amp;ldqu...</td>\n",
       "      <td>NaN</td>\n",
       "      <td>NaN</td>\n",
       "      <td>computer-pc</td>\n",
       "      <td>0</td>\n",
       "      <td>19</td>\n",
       "      <td>0</td>\n",
       "      <td>1</td>\n",
       "      <td>2010-03-02 08:01:08</td>\n",
       "      <td>2010-04-06 15:33:48</td>\n",
       "    </tr>\n",
       "    <tr>\n",
       "      <th>6</th>\n",
       "      <td>10</td>\n",
       "      <td>0</td>\n",
       "      <td>Alltag</td>\n",
       "      <td>Alltag | Allgemeinwissen</td>\n",
       "      <td>NaN</td>\n",
       "      <td>&lt;p&gt;Der Alltag ist grob gesagt eine Aneinanderr...</td>\n",
       "      <td>NaN</td>\n",
       "      <td>NaN</td>\n",
       "      <td>alltag</td>\n",
       "      <td>0</td>\n",
       "      <td>10</td>\n",
       "      <td>0</td>\n",
       "      <td>1</td>\n",
       "      <td>2010-03-02 08:03:28</td>\n",
       "      <td>2010-04-01 17:17:42</td>\n",
       "    </tr>\n",
       "    <tr>\n",
       "      <th>7</th>\n",
       "      <td>14</td>\n",
       "      <td>0</td>\n",
       "      <td>Mensch &amp; Körper</td>\n",
       "      <td>Mensch &amp; Körper | Allgemeinwissen</td>\n",
       "      <td>NaN</td>\n",
       "      <td>&lt;p&gt;Der K&amp;ouml;rper des Menschen steckt noch im...</td>\n",
       "      <td>NaN</td>\n",
       "      <td>NaN</td>\n",
       "      <td>mensch-koerper</td>\n",
       "      <td>0</td>\n",
       "      <td>46</td>\n",
       "      <td>0</td>\n",
       "      <td>1</td>\n",
       "      <td>2010-03-02 08:08:43</td>\n",
       "      <td>2010-04-01 09:16:40</td>\n",
       "    </tr>\n",
       "    <tr>\n",
       "      <th>8</th>\n",
       "      <td>15</td>\n",
       "      <td>0</td>\n",
       "      <td>Freizeit &amp; Sport</td>\n",
       "      <td>Freizeit &amp; Sport | Allgemeinwissen</td>\n",
       "      <td>NaN</td>\n",
       "      <td>&lt;p&gt;In der Kategorie Sport und Freizeit findest...</td>\n",
       "      <td>NaN</td>\n",
       "      <td>NaN</td>\n",
       "      <td>freizeit-sport</td>\n",
       "      <td>0</td>\n",
       "      <td>27</td>\n",
       "      <td>0</td>\n",
       "      <td>1</td>\n",
       "      <td>2010-03-02 08:09:18</td>\n",
       "      <td>2010-04-06 15:49:23</td>\n",
       "    </tr>\n",
       "    <tr>\n",
       "      <th>9</th>\n",
       "      <td>16</td>\n",
       "      <td>0</td>\n",
       "      <td>Wissen</td>\n",
       "      <td>Wissen | Allgemeinwissen</td>\n",
       "      <td>NaN</td>\n",
       "      <td>&lt;p&gt;In der folgenden Kategorie kannst du dein A...</td>\n",
       "      <td>NaN</td>\n",
       "      <td>NaN</td>\n",
       "      <td>wissen</td>\n",
       "      <td>0</td>\n",
       "      <td>69</td>\n",
       "      <td>0</td>\n",
       "      <td>1</td>\n",
       "      <td>2010-03-02 08:09:58</td>\n",
       "      <td>2010-03-31 10:38:46</td>\n",
       "    </tr>\n",
       "    <tr>\n",
       "      <th>10</th>\n",
       "      <td>17</td>\n",
       "      <td>0</td>\n",
       "      <td>Liebe &amp; Beziehung</td>\n",
       "      <td>Liebe &amp; Beziehung | Allgemeinwissen</td>\n",
       "      <td>NaN</td>\n",
       "      <td>&lt;p&gt;Umfangreiche Informationen &amp;uuml;ber deine ...</td>\n",
       "      <td>NaN</td>\n",
       "      <td>NaN</td>\n",
       "      <td>liebe-beziehung</td>\n",
       "      <td>0</td>\n",
       "      <td>36</td>\n",
       "      <td>0</td>\n",
       "      <td>1</td>\n",
       "      <td>2010-03-02 08:10:32</td>\n",
       "      <td>2010-04-06 16:10:54</td>\n",
       "    </tr>\n",
       "    <tr>\n",
       "      <th>11</th>\n",
       "      <td>18</td>\n",
       "      <td>0</td>\n",
       "      <td>Astrologie</td>\n",
       "      <td>Astrologie | Allgemeinwissen</td>\n",
       "      <td>NaN</td>\n",
       "      <td>&lt;p&gt;In der Kategorie &amp;bdquo;Astrologie&amp;ldquo; e...</td>\n",
       "      <td>NaN</td>\n",
       "      <td>NaN</td>\n",
       "      <td>astrologie</td>\n",
       "      <td>0</td>\n",
       "      <td>14</td>\n",
       "      <td>0</td>\n",
       "      <td>1</td>\n",
       "      <td>2010-03-02 08:17:06</td>\n",
       "      <td>2010-04-01 17:24:12</td>\n",
       "    </tr>\n",
       "    <tr>\n",
       "      <th>12</th>\n",
       "      <td>19</td>\n",
       "      <td>0</td>\n",
       "      <td>Games &amp; Spiele</td>\n",
       "      <td>Games &amp; Spiele | Allgemeinwissen</td>\n",
       "      <td>NaN</td>\n",
       "      <td>&lt;p&gt;Das neu gekaufte Spiel fesselt uns zum Teil...</td>\n",
       "      <td>NaN</td>\n",
       "      <td>NaN</td>\n",
       "      <td>games-spiele</td>\n",
       "      <td>0</td>\n",
       "      <td>33</td>\n",
       "      <td>0</td>\n",
       "      <td>1</td>\n",
       "      <td>2010-03-02 08:18:21</td>\n",
       "      <td>2010-04-06 16:07:29</td>\n",
       "    </tr>\n",
       "    <tr>\n",
       "      <th>14</th>\n",
       "      <td>74</td>\n",
       "      <td>0</td>\n",
       "      <td>Adult</td>\n",
       "      <td>NaN</td>\n",
       "      <td>NaN</td>\n",
       "      <td>\\N</td>\n",
       "      <td>\\N</td>\n",
       "      <td>\\N</td>\n",
       "      <td>adult</td>\n",
       "      <td>0</td>\n",
       "      <td>1</td>\n",
       "      <td>0</td>\n",
       "      <td>0</td>\n",
       "      <td>2010-03-25 16:52:35</td>\n",
       "      <td>2010-03-25 16:52:35</td>\n",
       "    </tr>\n",
       "  </tbody>\n",
       "</table>\n",
       "</div>"
      ],
      "text/plain": [
       "    category_id  parent_id        category_name  \\\n",
       "0            13          0               Schule   \n",
       "1            12          0  Literatur & Sprache   \n",
       "2            11          0      Namensforschung   \n",
       "3             7          0         Film & Musik   \n",
       "4             8          0       Stars & Promis   \n",
       "5             9          0        Computer & PC   \n",
       "6            10          0               Alltag   \n",
       "7            14          0      Mensch & Körper   \n",
       "8            15          0     Freizeit & Sport   \n",
       "9            16          0               Wissen   \n",
       "10           17          0    Liebe & Beziehung   \n",
       "11           18          0           Astrologie   \n",
       "12           19          0       Games & Spiele   \n",
       "14           74          0                Adult   \n",
       "\n",
       "                                 headline  title  \\\n",
       "0                Schule | Allgemeinwissen    NaN   \n",
       "1   Literatur & Sprache | Allgemeinwissen    NaN   \n",
       "2       Namensforschung | Allgemeinwissen    NaN   \n",
       "3          Film & Musik | Allgemeinwissen    NaN   \n",
       "4        Stars & Promis | Allgemeinwissen    NaN   \n",
       "5         Computer & PC | Allgemeinwissen    NaN   \n",
       "6                Alltag | Allgemeinwissen    NaN   \n",
       "7       Mensch & Körper | Allgemeinwissen    NaN   \n",
       "8      Freizeit & Sport | Allgemeinwissen    NaN   \n",
       "9                Wissen | Allgemeinwissen    NaN   \n",
       "10    Liebe & Beziehung | Allgemeinwissen    NaN   \n",
       "11           Astrologie | Allgemeinwissen    NaN   \n",
       "12       Games & Spiele | Allgemeinwissen    NaN   \n",
       "14                                    NaN    NaN   \n",
       "\n",
       "                                          description meta_description  \\\n",
       "0   <p>Auch wenn man sie &bdquo;Penne&ldquo; nennt...              NaN   \n",
       "1   <p>Themen wie B&uuml;cher, internationale Lite...              NaN   \n",
       "2   <p>In der Kategorie &bdquo;Namensforschung&ldq...              NaN   \n",
       "3   <p>In der Kategorie Film &amp; Musik findest d...              NaN   \n",
       "4   <p>Beim t&auml;glichen Aufschlagen der Zeitung...              NaN   \n",
       "5   <p>Die Kategorie &bdquo;Computer &amp; PC&ldqu...              NaN   \n",
       "6   <p>Der Alltag ist grob gesagt eine Aneinanderr...              NaN   \n",
       "7   <p>Der K&ouml;rper des Menschen steckt noch im...              NaN   \n",
       "8   <p>In der Kategorie Sport und Freizeit findest...              NaN   \n",
       "9   <p>In der folgenden Kategorie kannst du dein A...              NaN   \n",
       "10  <p>Umfangreiche Informationen &uuml;ber deine ...              NaN   \n",
       "11  <p>In der Kategorie &bdquo;Astrologie&ldquo; e...              NaN   \n",
       "12  <p>Das neu gekaufte Spiel fesselt uns zum Teil...              NaN   \n",
       "14                                                 \\N               \\N   \n",
       "\n",
       "   meta_tag                url  level  sort_id  use_count  active  \\\n",
       "0       NaN             schule      0       56          0       1   \n",
       "1       NaN  literatur-sprache      0       41          0       1   \n",
       "2       NaN    namensforschung      0       53          0       1   \n",
       "3       NaN         film-musik      0       22          0       1   \n",
       "4       NaN       stars-promis      0       64          0       1   \n",
       "5       NaN        computer-pc      0       19          0       1   \n",
       "6       NaN             alltag      0       10          0       1   \n",
       "7       NaN     mensch-koerper      0       46          0       1   \n",
       "8       NaN     freizeit-sport      0       27          0       1   \n",
       "9       NaN             wissen      0       69          0       1   \n",
       "10      NaN    liebe-beziehung      0       36          0       1   \n",
       "11      NaN         astrologie      0       14          0       1   \n",
       "12      NaN       games-spiele      0       33          0       1   \n",
       "14       \\N              adult      0        1          0       0   \n",
       "\n",
       "             created_at           updated_at  \n",
       "0   2010-03-02 08:08:08  2010-03-31 12:19:03  \n",
       "1   2010-03-02 08:05:41  2010-04-01 09:28:28  \n",
       "2   2010-03-02 08:04:58  2010-03-31 13:32:21  \n",
       "3   2010-03-02 07:58:55  2010-04-06 15:40:22  \n",
       "4   2010-03-02 08:00:07  2010-03-31 11:21:27  \n",
       "5   2010-03-02 08:01:08  2010-04-06 15:33:48  \n",
       "6   2010-03-02 08:03:28  2010-04-01 17:17:42  \n",
       "7   2010-03-02 08:08:43  2010-04-01 09:16:40  \n",
       "8   2010-03-02 08:09:18  2010-04-06 15:49:23  \n",
       "9   2010-03-02 08:09:58  2010-03-31 10:38:46  \n",
       "10  2010-03-02 08:10:32  2010-04-06 16:10:54  \n",
       "11  2010-03-02 08:17:06  2010-04-01 17:24:12  \n",
       "12  2010-03-02 08:18:21  2010-04-06 16:07:29  \n",
       "14  2010-03-25 16:52:35  2010-03-25 16:52:35  "
      ]
     },
     "execution_count": 36,
     "metadata": {},
     "output_type": "execute_result"
    }
   ],
   "source": [
    "main_cat"
   ]
  },
  {
   "cell_type": "code",
   "execution_count": 5,
   "metadata": {
    "collapsed": false
   },
   "outputs": [],
   "source": [
    "questions = pd.read_hdf(\"data/question_train.hdf5\")[[\"category_main_id\", \"question_id\", \"question\", \"tags\"]]"
   ]
  },
  {
   "cell_type": "code",
   "execution_count": 6,
   "metadata": {
    "collapsed": false
   },
   "outputs": [],
   "source": [
    "questions = questions[questions.category_main_id != 'N']\n",
    "questions[\"category_id\"] = questions.category_main_id.astype(int)\n",
    "questions.drop(\"category_main_id\", axis=1, inplace=1)"
   ]
  },
  {
   "cell_type": "code",
   "execution_count": 7,
   "metadata": {
    "collapsed": false
   },
   "outputs": [],
   "source": [
    "questions = questions.merge(cat[[\"category_id\", \"parent_id\"]], how=\"left\").set_index(\"question_id\")"
   ]
  },
  {
   "cell_type": "code",
   "execution_count": 8,
   "metadata": {
    "collapsed": false
   },
   "outputs": [
    {
     "data": {
      "text/html": [
       "<div>\n",
       "<table border=\"1\" class=\"dataframe\">\n",
       "  <thead>\n",
       "    <tr style=\"text-align: right;\">\n",
       "      <th></th>\n",
       "      <th>question</th>\n",
       "      <th>tags</th>\n",
       "      <th>category_id</th>\n",
       "      <th>parent_id</th>\n",
       "    </tr>\n",
       "    <tr>\n",
       "      <th>question_id</th>\n",
       "      <th></th>\n",
       "      <th></th>\n",
       "      <th></th>\n",
       "      <th></th>\n",
       "    </tr>\n",
       "  </thead>\n",
       "  <tbody>\n",
       "    <tr>\n",
       "      <th>13371</th>\n",
       "      <td>Was ist THC?</td>\n",
       "      <td>THC</td>\n",
       "      <td>49</td>\n",
       "      <td>16</td>\n",
       "    </tr>\n",
       "    <tr>\n",
       "      <th>16360</th>\n",
       "      <td>WIEVIEL EURO UNGEFÄHR KOSTET EINE RICHTIG GROS...</td>\n",
       "      <td>Harfe, Preis</td>\n",
       "      <td>43</td>\n",
       "      <td>15</td>\n",
       "    </tr>\n",
       "    <tr>\n",
       "      <th>18673</th>\n",
       "      <td>Was bedeutet der Name \"Vassia\"?</td>\n",
       "      <td>Vassia, Name, Bedeutung, Vasya, Vasiliy, Basil</td>\n",
       "      <td>26</td>\n",
       "      <td>11</td>\n",
       "    </tr>\n",
       "    <tr>\n",
       "      <th>4871</th>\n",
       "      <td>Hat Cristiano Ronaldo dos Santos Aveiro im Mom...</td>\n",
       "      <td>Sport, Freundin, Fussball, Christiano</td>\n",
       "      <td>70</td>\n",
       "      <td>8</td>\n",
       "    </tr>\n",
       "    <tr>\n",
       "      <th>4872</th>\n",
       "      <td>Wie viel Mitarbeiter hat die otto group?</td>\n",
       "      <td>Otto Group, Mitarbeiter, 55.000, 19 Länder</td>\n",
       "      <td>50</td>\n",
       "      <td>16</td>\n",
       "    </tr>\n",
       "  </tbody>\n",
       "</table>\n",
       "</div>"
      ],
      "text/plain": [
       "                                                      question  \\\n",
       "question_id                                                      \n",
       "13371                                             Was ist THC?   \n",
       "16360        WIEVIEL EURO UNGEFÄHR KOSTET EINE RICHTIG GROS...   \n",
       "18673                          Was bedeutet der Name \"Vassia\"?   \n",
       "4871         Hat Cristiano Ronaldo dos Santos Aveiro im Mom...   \n",
       "4872                  Wie viel Mitarbeiter hat die otto group?   \n",
       "\n",
       "                                                       tags  category_id  \\\n",
       "question_id                                                                \n",
       "13371                                                   THC           49   \n",
       "16360                                          Harfe, Preis           43   \n",
       "18673        Vassia, Name, Bedeutung, Vasya, Vasiliy, Basil           26   \n",
       "4871                  Sport, Freundin, Fussball, Christiano           70   \n",
       "4872             Otto Group, Mitarbeiter, 55.000, 19 Länder           50   \n",
       "\n",
       "             parent_id  \n",
       "question_id             \n",
       "13371               16  \n",
       "16360               15  \n",
       "18673               11  \n",
       "4871                 8  \n",
       "4872                16  "
      ]
     },
     "execution_count": 8,
     "metadata": {},
     "output_type": "execute_result"
    }
   ],
   "source": [
    "questions.head()"
   ]
  },
  {
   "cell_type": "code",
   "execution_count": 40,
   "metadata": {
    "collapsed": true
   },
   "outputs": [],
   "source": [
    "def clean_language(sen):\n",
    "    tokens = tokenizer.tokenize(sen)\n",
    "    return [w for w in tokens if w not in stop]"
   ]
  },
  {
   "cell_type": "code",
   "execution_count": 42,
   "metadata": {
    "collapsed": false
   },
   "outputs": [
    {
     "data": {
      "text/html": [
       "<div>\n",
       "<table border=\"1\" class=\"dataframe\">\n",
       "  <thead>\n",
       "    <tr style=\"text-align: right;\">\n",
       "      <th></th>\n",
       "      <th>question</th>\n",
       "      <th>tags</th>\n",
       "      <th>category_id</th>\n",
       "      <th>parent_id</th>\n",
       "    </tr>\n",
       "    <tr>\n",
       "      <th>question_id</th>\n",
       "      <th></th>\n",
       "      <th></th>\n",
       "      <th></th>\n",
       "      <th></th>\n",
       "    </tr>\n",
       "  </thead>\n",
       "  <tbody>\n",
       "    <tr>\n",
       "      <th>13371</th>\n",
       "      <td>Was ist THC?</td>\n",
       "      <td>THC</td>\n",
       "      <td>49</td>\n",
       "      <td>16</td>\n",
       "    </tr>\n",
       "    <tr>\n",
       "      <th>16360</th>\n",
       "      <td>WIEVIEL EURO UNGEFÄHR KOSTET EINE RICHTIG GROS...</td>\n",
       "      <td>Harfe, Preis</td>\n",
       "      <td>43</td>\n",
       "      <td>15</td>\n",
       "    </tr>\n",
       "    <tr>\n",
       "      <th>18673</th>\n",
       "      <td>Was bedeutet der Name \"Vassia\"?</td>\n",
       "      <td>Vassia, Name, Bedeutung, Vasya, Vasiliy, Basil</td>\n",
       "      <td>26</td>\n",
       "      <td>11</td>\n",
       "    </tr>\n",
       "    <tr>\n",
       "      <th>4871</th>\n",
       "      <td>Hat Cristiano Ronaldo dos Santos Aveiro im Mom...</td>\n",
       "      <td>Sport, Freundin, Fussball, Christiano</td>\n",
       "      <td>70</td>\n",
       "      <td>8</td>\n",
       "    </tr>\n",
       "    <tr>\n",
       "      <th>4872</th>\n",
       "      <td>Wie viel Mitarbeiter hat die otto group?</td>\n",
       "      <td>Otto Group, Mitarbeiter, 55.000, 19 Länder</td>\n",
       "      <td>50</td>\n",
       "      <td>16</td>\n",
       "    </tr>\n",
       "    <tr>\n",
       "      <th>3288</th>\n",
       "      <td>Wie hieß die universität pgu in tiraspol?</td>\n",
       "      <td>Universität, PGU, Tiraspol,Name</td>\n",
       "      <td>24</td>\n",
       "      <td>10</td>\n",
       "    </tr>\n",
       "    <tr>\n",
       "      <th>15752</th>\n",
       "      <td>Wie gross ist der sänger von billy talent Ian ...</td>\n",
       "      <td>Billy Talent</td>\n",
       "      <td>20</td>\n",
       "      <td>7</td>\n",
       "    </tr>\n",
       "    <tr>\n",
       "      <th>14570</th>\n",
       "      <td>Passen krebs und schütze zusammen?</td>\n",
       "      <td>Krebs, Schütze</td>\n",
       "      <td>65</td>\n",
       "      <td>18</td>\n",
       "    </tr>\n",
       "    <tr>\n",
       "      <th>15256</th>\n",
       "      <td>Was bedeutet der Nane Gwendolin?</td>\n",
       "      <td>Name, Bedeutung, Gwendolin</td>\n",
       "      <td>26</td>\n",
       "      <td>11</td>\n",
       "    </tr>\n",
       "    <tr>\n",
       "      <th>18564</th>\n",
       "      <td>Wer ist Gossip?</td>\n",
       "      <td>Gossip</td>\n",
       "      <td>20</td>\n",
       "      <td>7</td>\n",
       "    </tr>\n",
       "  </tbody>\n",
       "</table>\n",
       "</div>"
      ],
      "text/plain": [
       "                                                      question  \\\n",
       "question_id                                                      \n",
       "13371                                             Was ist THC?   \n",
       "16360        WIEVIEL EURO UNGEFÄHR KOSTET EINE RICHTIG GROS...   \n",
       "18673                          Was bedeutet der Name \"Vassia\"?   \n",
       "4871         Hat Cristiano Ronaldo dos Santos Aveiro im Mom...   \n",
       "4872                  Wie viel Mitarbeiter hat die otto group?   \n",
       "3288                 Wie hieß die universität pgu in tiraspol?   \n",
       "15752        Wie gross ist der sänger von billy talent Ian ...   \n",
       "14570                       Passen krebs und schütze zusammen?   \n",
       "15256                         Was bedeutet der Nane Gwendolin?   \n",
       "18564                                          Wer ist Gossip?   \n",
       "\n",
       "                                                       tags  category_id  \\\n",
       "question_id                                                                \n",
       "13371                                                   THC           49   \n",
       "16360                                          Harfe, Preis           43   \n",
       "18673        Vassia, Name, Bedeutung, Vasya, Vasiliy, Basil           26   \n",
       "4871                  Sport, Freundin, Fussball, Christiano           70   \n",
       "4872             Otto Group, Mitarbeiter, 55.000, 19 Länder           50   \n",
       "3288                        Universität, PGU, Tiraspol,Name           24   \n",
       "15752                                          Billy Talent           20   \n",
       "14570                                        Krebs, Schütze           65   \n",
       "15256                            Name, Bedeutung, Gwendolin           26   \n",
       "18564                                                Gossip           20   \n",
       "\n",
       "             parent_id  \n",
       "question_id             \n",
       "13371               16  \n",
       "16360               15  \n",
       "18673               11  \n",
       "4871                 8  \n",
       "4872                16  \n",
       "3288                10  \n",
       "15752                7  \n",
       "14570               18  \n",
       "15256               11  \n",
       "18564                7  "
      ]
     },
     "execution_count": 42,
     "metadata": {},
     "output_type": "execute_result"
    }
   ],
   "source": [
    "questions.iloc[:10]"
   ]
  },
  {
   "cell_type": "code",
   "execution_count": 52,
   "metadata": {
    "collapsed": true
   },
   "outputs": [],
   "source": [
    "Y = questions.parent_id"
   ]
  },
  {
   "cell_type": "code",
   "execution_count": 96,
   "metadata": {
    "collapsed": false
   },
   "outputs": [],
   "source": [
    "def create_train_dataset(questions, model):\n",
    "    res = []\n",
    "    for idx, pid, cid, question in zip(questions.index, questions.parent_id, questions.category_id, questions.question):\n",
    "        wordlist = clean_language(question)\n",
    "        matrix = np.empty((len(wordlist), 304))\n",
    "        matrix[:, 0] = idx\n",
    "        matrix[:, 1] = pid\n",
    "        matrix[:, 2] = cid\n",
    "        matrix[:, 3] = np.arange(len(wordlist))\n",
    "        for row, w in enumerate(wordlist):\n",
    "            try:\n",
    "                matrix[row, 4:] = model[w]\n",
    "            except KeyError:\n",
    "                pass\n",
    "        train_example = pd.DataFrame(matrix)\n",
    "        train_example.columns = [\"question_id\", \"category_id\", \"parent_id\", \"wordno\"] \\\n",
    "                                + [\"dim_{}\".format(i) for i in range(300)]\n",
    "        res.append(train_example)\n",
    "\n",
    "    return pd.concat(res, axis=0)"
   ]
  },
  {
   "cell_type": "code",
   "execution_count": 100,
   "metadata": {
    "collapsed": false
   },
   "outputs": [],
   "source": [
    "res = create_train_dataset(questions, w2v)"
   ]
  },
  {
   "cell_type": "code",
   "execution_count": 102,
   "metadata": {
    "collapsed": false
   },
   "outputs": [
    {
     "name": "stdout",
     "output_type": "stream",
     "text": [
      "<class 'pandas.core.frame.DataFrame'>\n",
      "Int64Index: 74585 entries, 0 to 6\n",
      "Columns: 304 entries, question_id to dim_299\n",
      "dtypes: float64(304)\n",
      "memory usage: 173.6 MB\n"
     ]
    }
   ],
   "source": [
    "res"
   ]
  },
  {
   "cell_type": "code",
   "execution_count": 93,
   "metadata": {
    "collapsed": false
   },
   "outputs": [
    {
     "data": {
      "text/html": [
       "<div>\n",
       "<table border=\"1\" class=\"dataframe\">\n",
       "  <thead>\n",
       "    <tr style=\"text-align: right;\">\n",
       "      <th></th>\n",
       "      <th>0</th>\n",
       "    </tr>\n",
       "  </thead>\n",
       "  <tbody>\n",
       "    <tr>\n",
       "      <th>0</th>\n",
       "      <td>question_id  wordno     dim_0     dim_1    ...</td>\n",
       "    </tr>\n",
       "    <tr>\n",
       "      <th>1</th>\n",
       "      <td>question_id  wordno          dim_0         ...</td>\n",
       "    </tr>\n",
       "    <tr>\n",
       "      <th>2</th>\n",
       "      <td>question_id  wordno     dim_0     dim_1    ...</td>\n",
       "    </tr>\n",
       "    <tr>\n",
       "      <th>3</th>\n",
       "      <td>question_id  wordno     dim_0     dim_1    ...</td>\n",
       "    </tr>\n",
       "    <tr>\n",
       "      <th>4</th>\n",
       "      <td>question_id  wordno     dim_0     dim_1    ...</td>\n",
       "    </tr>\n",
       "    <tr>\n",
       "      <th>5</th>\n",
       "      <td>question_id  wordno          dim_0         ...</td>\n",
       "    </tr>\n",
       "    <tr>\n",
       "      <th>6</th>\n",
       "      <td>question_id  wordno          dim_0         ...</td>\n",
       "    </tr>\n",
       "    <tr>\n",
       "      <th>7</th>\n",
       "      <td>question_id  wordno          dim_0         ...</td>\n",
       "    </tr>\n",
       "    <tr>\n",
       "      <th>8</th>\n",
       "      <td>question_id  wordno     dim_0     dim_1    ...</td>\n",
       "    </tr>\n",
       "    <tr>\n",
       "      <th>9</th>\n",
       "      <td>question_id  wordno     dim_0     dim_1    ...</td>\n",
       "    </tr>\n",
       "  </tbody>\n",
       "</table>\n",
       "</div>"
      ],
      "text/plain": [
       "                                                   0\n",
       "0     question_id  wordno     dim_0     dim_1    ...\n",
       "1     question_id  wordno          dim_0         ...\n",
       "2     question_id  wordno     dim_0     dim_1    ...\n",
       "3     question_id  wordno     dim_0     dim_1    ...\n",
       "4     question_id  wordno     dim_0     dim_1    ...\n",
       "5     question_id  wordno          dim_0         ...\n",
       "6     question_id  wordno          dim_0         ...\n",
       "7     question_id  wordno          dim_0         ...\n",
       "8     question_id  wordno     dim_0     dim_1    ...\n",
       "9     question_id  wordno     dim_0     dim_1    ..."
      ]
     },
     "execution_count": 93,
     "metadata": {},
     "output_type": "execute_result"
    }
   ],
   "source": []
  },
  {
   "cell_type": "code",
   "execution_count": null,
   "metadata": {
    "collapsed": true
   },
   "outputs": [],
   "source": []
  }
 ],
 "metadata": {
  "kernelspec": {
   "display_name": "Python 3",
   "language": "python",
   "name": "python3"
  },
  "language_info": {
   "codemirror_mode": {
    "name": "ipython",
    "version": 3
   },
   "file_extension": ".py",
   "mimetype": "text/x-python",
   "name": "python",
   "nbconvert_exporter": "python",
   "pygments_lexer": "ipython3",
   "version": "3.5.2"
  }
 },
 "nbformat": 4,
 "nbformat_minor": 1
}
